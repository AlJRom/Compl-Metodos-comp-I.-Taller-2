{
 "cells": [
  {
   "cell_type": "markdown",
   "metadata": {},
   "source": [
    "## 2. Fórmulas de Newton-Cotes [20 pt]\n",
    "Las fórmulas de Newton-Cotes para la integración de una función $f(x)$ en el intervalo $[a, b]$ se construyen dividiendo este en subintervalos de $m$ puntos igualemnte espaciados ${x_{i}, x_{i+1}, …, x_{m}}$ e interpolar un polinomio de Lagrange de grado $m−1$ y hacer esta integral. Posteriormente, se suman los resultados de las integrales de todos los puntos y se obtendrá un resultado de la forma\n",
    "$$\n",
    "\\int_{a}^{b} f(x) \\,dx \\ ≈ \\sum_{i=0}^{n-1} c_{i}f(x_{i})\\\n",
    "$$\n",
    "\n",
    "donde $c_{i}$ se conocen como los pesos. A partir de esta notación, escoja **SOLAMENTE UNO** de los siguientes puntos para resolver."
   ]
  },
  {
   "cell_type": "markdown",
   "metadata": {},
   "source": [
    "### 2.1. Regla de Simpson de 3/8\n",
    "La fórmula de Simpson de 3/8 consiste en dividir el intervalo en subintervalos de $m = 4$ puntos cada uno. Demuestre que la integral de cualquiera de estos subintervalos está dada por\n",
    "$$\n",
    "\\int_{x_{i}}^{x_{i+3}} f(x) \\,dx \\ ≈ \\frac{3h}{8} (f(x_{i})+3f(x_{i+1})+3f(x_{i+2})+f(x_{i+3}))\n",
    "$$"
   ]
  },
  {
   "cell_type": "markdown",
   "metadata": {},
   "source": [
    "En primer lugar, se puede expresar el extremo inferior del intervalo como $a=x_{i}$ \n",
    "\n",
    "Así, cada elemento del intervalo es de la forma $x_{i+n}=x_{i}+nh$\n",
    "\\\n",
    "Además, $i=m-3$\n",
    "\\\n",
    "Por lo tanto, como $b=x_{m-1}$, se tiene $b=x_{i+3}$\n",
    "\n",
    "Además, $h=x_{i+1}-x_{i}$\n",
    "\n",
    "Con esto, se puede calcular el polinomio interpolador como"
   ]
  },
  {
   "cell_type": "markdown",
   "metadata": {},
   "source": [
    "$$\n",
    "L(x_{i})=\\frac{x-x_{i+1}}{x_{i}-x_{i+1}}\\frac{x-x_{i+2}}{x_{i}-x_{i+2}}\\frac{x-x_{i+3}}{x_{i}-x_{i+3}}\\\\\n",
    "L(x_{i})=\\frac{x-x_{i+1}}{-h}\\frac{x-x_{i+2}}{-2h}\\frac{x-x_{i+3}}{-3h}\n",
    "$$\n",
    "$$\n",
    "L(x_{i+1})=\\frac{x-x_{i}}{x_{i+1}-x_{i}}\\frac{x-x_{i+2}}{x_{i+1}-x_{i+2}}\\frac{x-x_{i+3}}{x_{i+1}-x_{i+3}}\\\\\n",
    "L(x_{i+1})=\\frac{x-x_{i}}{h}\\frac{x-x_{i+2}}{-h}\\frac{x-x_{i+3}}{-2h}\n",
    "$$\n",
    "$$\n",
    "L(x_{i+2})=\\frac{x-x_{i}}{x_{i+2}-x_{i}}\\frac{x-x_{i+1}}{x_{i+2}-x_{i+1}}\\frac{x-x_{i+3}}{x_{i+2}-x_{i+3}}\\\\\n",
    "L(x_{i+2})=\\frac{x-x_{i}}{2h}\\frac{x-x_{i+1}}{h}\\frac{x-x_{i+3}}{-h}\n",
    "$$\n",
    "$$\n",
    "L(x_{i+3})=\\frac{x-x_{i}}{x_{i+3}-x_{i}}\\frac{x-x_{i+1}}{x_{i+3}-x_{i+1}}\\frac{x-x_{i+2}}{x_{i+3}-x_{i+2}}\\\\\n",
    "L(x_{i+3})=\\frac{x-x_{i}}{3h}\\frac{x-x_{i+1}}{2h}\\frac{x-x_{i+2}}{h}\n",
    "$$\n",
    "\n",
    "$$\n",
    "P(x)=f(x_{i})\\frac{x-x_{i+1}}{-h}\\frac{x-x_{i+2}}{-2h}\\frac{x-x_{i+3}}{-3h} + f(x_{i+1})\\frac{x-x_{i}}{h}\\frac{x-x_{i+2}}{-h}\\frac{x-x_{i+3}}{-2h} + f(x_{i+2})\\frac{x-x_{i}}{2h}\\frac{x-x_{i+1}}{h}\\frac{x-x_{i+3}}{-h} + f(x_{i+3})\\frac{x-x_{i}}{3h}\\frac{x-x_{i+1}}{2h}\\frac{x-x_{i+2}}{h}\n",
    "$$"
   ]
  },
  {
   "cell_type": "markdown",
   "metadata": {},
   "source": [
    "\n",
    "Asumiendo que la función es continua la función, se puede calcular la integral usando intervalos de 2 elementos\n",
    "$$\n",
    "\\int_{x_{i}}^{x_{i+1}} P(x) \\,dx \\ = \\int_{x_{i}}^{x_{i+1}} f(x_{i})\\frac{x-x_{i+1}}{-h} \\,dx \\ + \\int_{x_{i}}^{x_{i+1}} f(x_{i+1})\\frac{x-x_{i}}{h} \\,dx \\\\\\\n",
    "\\\\\n",
    "\\int_{x_{i}}^{x_{i+1}} P(x) \\,dx \\ = \\frac{f(x_{i})}{-h}\\int_{x_{i}}^{x_{i+1}} x-x_{i+1} \\,dx \\ + \\frac{f(x_{i+1})}{h}\\int_{x_{i}}^{x_{i+1}} x-x_{i} \\,dx \\\n",
    "\\\\\n",
    "\\int_{x_{i}}^{x_{i+1}} P(x) \\,dx \\ = \\frac{-f(x_{i})}{h}(\\frac{x^2}{2}-x_{i+1}x) + \\frac{f(x_{i+1})}{h}(\\frac{x^2}{2}-x_{i}x)\n",
    "\\\\\n",
    "\\int_{x_{i}}^{x_{i+1}} P(x) \\,dx \\ = \\frac{-f(x_{i})}{h}(\\frac{x_{i+1}^2}{2}-x_{i+1}x_{i+1}-\\frac{x_{i}^2}{2}+x_{i+1}x_{i}) + \\frac{f(x_{i+1})}{h}(\\frac{x_{i+1}^2}{2}-x_{i}x_{i+1}-\\frac{x_{i}^2}{2}+x_{i}x_{i})\n",
    "\\\\\n",
    "\\int_{x_{i}}^{x_{i+1}} P(x) \\,dx \\ = \\frac{-f(x_{i})}{h}(-\\frac{x_{i+1}^2}{2}-\\frac{x_{i}^2}{2}+x_{i+1}x_{i}) + \\frac{f(x_{i+1})}{h}(\\frac{x_{i+1}^2}{2}-x_{i}x_{i+1}+\\frac{x_{i}^2}{2})\n",
    "\\\\\n",
    "\\int_{x_{i}}^{x_{i+1}} P(x) \\,dx \\ = \\frac{f(x_{i})}{2h}(x_{i+1}^2+x_{i}^2-2x_{i+1}x_{i}) + \\frac{f(x_{i+1})}{2h}(x_{i+1}^2-2x_{i}x_{i+1}+x_{i}^2)\n",
    "\\\\\n",
    "\\int_{x_{i}}^{x_{i+1}} P(x) \\,dx \\ = \\frac{f(x_{i})}{2h}(x_{i+1}-x_{i})^2 + \\frac{f(x_{i+1})}{2h}(x_{i+1}-x_{i})^2\n",
    "\\\\\n",
    "\\int_{x_{i}}^{x_{i+1}} P(x) \\,dx \\ = \\frac{f(x_{i})}{2h}h^2 + \\frac{f(x_{i+1})}{2h}h^2\n",
    "\\\\\n",
    "\\int_{x_{i}}^{x_{i+1}} P(x) \\,dx \\ = \\frac{f(x_{i})}{2}h + \\frac{f(x_{i+1})}{2}h\n",
    "\\\\\n",
    "\\int_{x_{i}}^{x_{i+1}} P(x) \\,dx \\ = \\frac{h}{2}(f(x_{i}) +f(x_{i+1}))\n",
    "$$\n",
    "\n",
    "$$\n",
    "P(x)=f(x_{i})\\frac{x-x_{i+1}}{-h}+f(x_{i+1})\\frac{x-x_{i}}{h}\n",
    "$$"
   ]
  }
 ],
 "metadata": {
  "language_info": {
   "name": "python"
  },
  "orig_nbformat": 4
 },
 "nbformat": 4,
 "nbformat_minor": 2
}
